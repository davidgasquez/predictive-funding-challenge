{
 "cells": [
  {
   "cell_type": "code",
   "execution_count": 1,
   "metadata": {},
   "outputs": [],
   "source": [
    "import warnings\n",
    "\n",
    "warnings.filterwarnings(\"ignore\")"
   ]
  },
  {
   "cell_type": "code",
   "execution_count": 2,
   "metadata": {},
   "outputs": [],
   "source": [
    "import polars as pl\n",
    "\n",
    "df_train = pl.read_csv(\"../data/raw/pond_train.csv\")\n",
    "df_test = pl.read_csv(\"../data/raw/pond_test.csv\")\n",
    "\n",
    "X = df_train.select(\"project_a\", \"project_b\", \"total_amount_usd\", \"funder\", \"quarter\")\n",
    "y = df_train.select(\"weight_a\")"
   ]
  },
  {
   "cell_type": "code",
   "execution_count": null,
   "metadata": {},
   "outputs": [],
   "source": [
    "import numpy as np\n",
    "from category_encoders import TargetEncoder\n",
    "from sklearn.ensemble import HistGradientBoostingRegressor\n",
    "from sklearn.model_selection import (\n",
    "    GridSearchCV,\n",
    "    KFold,\n",
    "    cross_val_score,\n",
    ")\n",
    "from sklearn.pipeline import Pipeline\n",
    "from sklearn.preprocessing import StandardScaler\n",
    "\n",
    "pipeline = Pipeline(\n",
    "    [\n",
    "        (\n",
    "            \"target_encoder\",\n",
    "            TargetEncoder(cols=[\"project_a\", \"project_b\", \"funder\", \"quarter\"]),\n",
    "        ),\n",
    "        (\"scaler\", StandardScaler()),\n",
    "        (\"classifier\", HistGradientBoostingRegressor()),\n",
    "    ]\n",
    ")\n",
    "\n",
    "# Define the outer and inner cross-validation strategies\n",
    "outer_cv = KFold(n_splits=5, shuffle=True, random_state=42)\n",
    "inner_cv = KFold(n_splits=3, shuffle=True, random_state=42)\n",
    "\n",
    "# Define the parameter grid for hyperparameter tuning\n",
    "param_grid = {\n",
    "    \"classifier__learning_rate\": [0.01, 0.05, 0.1],\n",
    "    \"classifier__max_depth\": [3, 5, 7],\n",
    "    \"classifier__min_samples_leaf\": [1, 2, 4],\n",
    "}\n",
    "\n",
    "# Perform nested cross-validation\n",
    "grid_search = GridSearchCV(\n",
    "    estimator=pipeline,\n",
    "    param_grid=param_grid,\n",
    "    cv=inner_cv,\n",
    "    scoring=\"neg_mean_absolute_error\",\n",
    ")\n",
    "\n",
    "nested_scores = cross_val_score(\n",
    "    grid_search,\n",
    "    X.to_pandas(),\n",
    "    y.to_pandas(),\n",
    "    cv=outer_cv,\n",
    "    scoring=\"neg_mean_absolute_error\",\n",
    ")\n",
    "print(f\"Nested CV Accuracy: {np.mean(nested_scores):.4f} ± {np.std(nested_scores):.4f}\")"
   ]
  }
 ],
 "metadata": {
  "kernelspec": {
   "display_name": ".venv",
   "language": "python",
   "name": "python3"
  },
  "language_info": {
   "codemirror_mode": {
    "name": "ipython",
    "version": 3
   },
   "file_extension": ".py",
   "mimetype": "text/x-python",
   "name": "python",
   "nbconvert_exporter": "python",
   "pygments_lexer": "ipython3",
   "version": "3.13.0"
  }
 },
 "nbformat": 4,
 "nbformat_minor": 2
}
