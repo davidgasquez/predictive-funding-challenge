{
    "cells": [
        {
            "cell_type": "code",
            "execution_count": 3,
            "metadata": {},
            "outputs": [],
            "source": [
                "import polars as pl\n",
                "\n",
                "from src.data import get_dataframes\n",
                "\n",
                "_ = pl.Config.set_tbl_rows(20)\n",
                "_ = pl.Config.set_fmt_str_lengths(100)\n",
                "\n",
                "df_train, df_test = get_dataframes()\n"
            ]
        },
        {
            "cell_type": "code",
            "execution_count": 4,
            "metadata": {},
            "outputs": [],
            "source": [
                "df_train = pl.concat(\n",
                "    [\n",
                "        df_train,\n",
                "        df_train.select(\n",
                "            \"id\",\n",
                "            pl.col(\"project_b\").alias(\"project_a\"),\n",
                "            pl.col(\"project_a\").alias(\"project_b\"),\n",
                "            pl.col(\"weight_b\").alias(\"weight_a\"),\n",
                "            pl.col(\"weight_a\").alias(\"weight_b\"),\n",
                "        ),\n",
                "    ]\n",
                ")"
            ]
        },
        {
            "cell_type": "code",
            "execution_count": 5,
            "metadata": {},
            "outputs": [],
            "source": [
                "from src.data import get_projects_info\n",
                "\n",
                "projects = (\n",
                "    pl.concat(\n",
                "        [\n",
                "            df_train.get_column(\"project_a\"),\n",
                "            df_train.get_column(\"project_b\"),\n",
                "            df_test.get_column(\"project_a\"),\n",
                "            df_test.get_column(\"project_b\"),\n",
                "        ]\n",
                "    )\n",
                "    .unique()\n",
                "    .to_list()\n",
                ")\n",
                "\n",
                "df_projects = get_projects_info(projects)"
            ]
        },
        {
            "cell_type": "code",
            "execution_count": 6,
            "metadata": {},
            "outputs": [],
            "source": [
                "from src.features import add_github_projects_data, extract_ratio_features\n",
                "\n",
                "df_train_full = add_github_projects_data(df_train, df_projects)\n",
                "df_train_full = extract_ratio_features(df_train_full)\n",
                "\n",
                "df_test_full = add_github_projects_data(df_test, df_projects)\n",
                "df_test_full = extract_ratio_features(df_test_full)"
            ]
        },
        {
            "cell_type": "code",
            "execution_count": 7,
            "metadata": {},
            "outputs": [],
            "source": [
                "from src.features import (\n",
                "    extract_activity_features,\n",
                "    extract_temporal_features,\n",
                ")\n",
                "\n",
                "df_train_full = extract_temporal_features(df_train_full)\n",
                "df_train_full = extract_activity_features(df_train_full)\n",
                "\n",
                "df_test_full = extract_temporal_features(df_test_full)\n",
                "df_test_full = extract_activity_features(df_test_full)\n"
            ]
        },
        {
            "cell_type": "code",
            "execution_count": 8,
            "metadata": {},
            "outputs": [],
            "source": [
                "features = [\n",
                "    \"is_private\",\n",
                "    \"has_homepage\",\n",
                "    \"size\",\n",
                "    \"stars\",\n",
                "    \"watchers\",\n",
                "    \"has_projects\",\n",
                "    \"has_pages\",\n",
                "    \"has_wiki\",\n",
                "    \"has_discussions\",\n",
                "    \"forks\",\n",
                "    \"is_archived\",\n",
                "    \"is_disabled\",\n",
                "    \"open_issues\",\n",
                "    \"subscribers_count\",\n",
                "    \"is_private_b\",\n",
                "    \"has_homepage_b\",\n",
                "    \"size_b\",\n",
                "    \"stars_b\",\n",
                "    \"watchers_b\",\n",
                "    \"has_projects_b\",\n",
                "    \"has_pages_b\",\n",
                "    \"has_wiki_b\",\n",
                "    \"has_discussions_b\",\n",
                "    \"forks_b\",\n",
                "    \"is_archived_b\",\n",
                "    \"is_disabled_b\",\n",
                "    \"open_issues_b\",\n",
                "    \"subscribers_count_b\",\n",
                "    \"stars_ratio\",\n",
                "    \"watchers_ratio\",\n",
                "    \"forks_ratio\",\n",
                "    \"size_ratio\",\n",
                "    # \"subscribers_count_ratio\",\n",
                "    \"stars_decay\",\n",
                "    \"stars_decay_b\",\n",
                "    \"forks_decay\",\n",
                "    \"forks_decay_b\",\n",
                "    \"age_days\",\n",
                "    \"age_days_b\",\n",
                "    \"days_since_update\",\n",
                "    \"days_since_update_b\",\n",
                "    \"log_stars\",\n",
                "    \"log_stars_b\",\n",
                "    \"log_watchers\",\n",
                "    \"log_watchers_b\",\n",
                "    \"log_forks\",\n",
                "    \"log_forks_b\",\n",
                "]\n",
                "\n",
                "X = df_train_full.select(features).to_numpy()\n",
                "\n",
                "y = df_train_full.get_column(\"weight_a\").to_numpy()\n"
            ]
        },
        {
            "cell_type": "code",
            "execution_count": 9,
            "metadata": {},
            "outputs": [
                {
                    "name": "stdout",
                    "output_type": "stream",
                    "text": [
                        "[LightGBM] [Info] Total Bins 3770\n",
                        "[LightGBM] [Info] Number of data points in the train set: 3819, number of used features: 42\n",
                        "[LightGBM] [Info] Start training from score 0.495267\n",
                        "[LightGBM] [Info] Total Bins 3770\n",
                        "[LightGBM] [Info] Number of data points in the train set: 3819, number of used features: 42\n",
                        "[LightGBM] [Info] Start training from score 0.503440\n",
                        "[LightGBM] [Info] Total Bins 3770\n",
                        "[LightGBM] [Info] Number of data points in the train set: 3819, number of used features: 42\n",
                        "[LightGBM] [Info] Start training from score 0.494855\n",
                        "[LightGBM] [Info] Total Bins 3770\n",
                        "[LightGBM] [Info] Number of data points in the train set: 3819, number of used features: 42\n",
                        "[LightGBM] [Info] Start training from score 0.505230\n",
                        "[LightGBM] [Info] Total Bins 3770\n",
                        "[LightGBM] [Info] Number of data points in the train set: 3820, number of used features: 42\n",
                        "[LightGBM] [Info] Start training from score 0.501208\n",
                        "Cross-validation MSE: 0.0190 (+/- 0.0009)\n"
                    ]
                }
            ],
            "source": [
                "import lightgbm as lgb\n",
                "import numpy as np\n",
                "from sklearn.model_selection import KFold\n",
                "\n",
                "lgb_train_data = lgb.Dataset(X, label=y)\n",
                "\n",
                "# Define parameters\n",
                "params = {\n",
                "    \"objective\": \"regression\",\n",
                "    \"metric\": \"mse\",\n",
                "    \"force_col_wise\": True,\n",
                "    \"num_leaves\": 100,\n",
                "}\n",
                "\n",
                "# Perform 5-fold cross validation\n",
                "kf = KFold(n_splits=5, shuffle=True, random_state=42)\n",
                "cv_scores = []\n",
                "\n",
                "for train_idx, val_idx in kf.split(X):\n",
                "    X_train, X_val = X[train_idx], X[val_idx]\n",
                "    y_train, y_val = y[train_idx], y[val_idx]\n",
                "\n",
                "    # Create training and validation datasets\n",
                "    train_data = lgb.Dataset(X_train, label=y_train)\n",
                "    val_data = lgb.Dataset(X_val, label=y_val)\n",
                "\n",
                "    # Train model\n",
                "    model = lgb.train(params, train_data, valid_sets=[val_data])\n",
                "\n",
                "    # Make predictions and calculate MSE\n",
                "    y_pred = model.predict(X_val)\n",
                "    mse = np.mean((y_val - y_pred) ** 2)\n",
                "    cv_scores.append(mse)\n",
                "\n",
                "# Calculate mean and std of MSE scores\n",
                "cv_scores = np.array(cv_scores)\n",
                "mean_mse = cv_scores.mean()\n",
                "std_mse = cv_scores.std()\n",
                "\n",
                "print(f\"Cross-validation MSE: {mean_mse:.4f} (+/- {std_mse:.4f})\")"
            ]
        },
        {
            "cell_type": "code",
            "execution_count": 10,
            "metadata": {},
            "outputs": [
                {
                    "name": "stdout",
                    "output_type": "stream",
                    "text": [
                        "[LightGBM] [Info] Total Bins 3770\n",
                        "[LightGBM] [Info] Number of data points in the train set: 4774, number of used features: 42\n",
                        "[LightGBM] [Info] Start training from score 0.500000\n"
                    ]
                }
            ],
            "source": [
                "# Train model on the entire dataset\n",
                "model = lgb.train(\n",
                "    params,\n",
                "    lgb_train_data,\n",
                ")"
            ]
        },
        {
            "cell_type": "code",
            "execution_count": 11,
            "metadata": {},
            "outputs": [],
            "source": [
                "X_test = df_test_full.select(features).to_numpy()\n",
                "\n",
                "lgb_test_data = lgb.Dataset(X_test)\n",
                "\n",
                "test_predictions = model.predict(X_test)\n",
                "test_predictions = pl.Series(test_predictions).round(6).clip(0)"
            ]
        },
        {
            "cell_type": "code",
            "execution_count": 12,
            "metadata": {},
            "outputs": [
                {
                    "data": {
                        "text/html": [
                            "\n",
                            "<style>\n",
                            "  #altair-viz-c6ecdb5871b241d6910ed3a8b065125c.vega-embed {\n",
                            "    width: 100%;\n",
                            "    display: flex;\n",
                            "  }\n",
                            "\n",
                            "  #altair-viz-c6ecdb5871b241d6910ed3a8b065125c.vega-embed details,\n",
                            "  #altair-viz-c6ecdb5871b241d6910ed3a8b065125c.vega-embed details summary {\n",
                            "    position: relative;\n",
                            "  }\n",
                            "</style>\n",
                            "<div id=\"altair-viz-c6ecdb5871b241d6910ed3a8b065125c\"></div>\n",
                            "<script type=\"text/javascript\">\n",
                            "  var VEGA_DEBUG = (typeof VEGA_DEBUG == \"undefined\") ? {} : VEGA_DEBUG;\n",
                            "  (function(spec, embedOpt){\n",
                            "    let outputDiv = document.currentScript.previousElementSibling;\n",
                            "    if (outputDiv.id !== \"altair-viz-c6ecdb5871b241d6910ed3a8b065125c\") {\n",
                            "      outputDiv = document.getElementById(\"altair-viz-c6ecdb5871b241d6910ed3a8b065125c\");\n",
                            "    }\n",
                            "\n",
                            "    const paths = {\n",
                            "      \"vega\": \"https://cdn.jsdelivr.net/npm/vega@5?noext\",\n",
                            "      \"vega-lib\": \"https://cdn.jsdelivr.net/npm/vega-lib?noext\",\n",
                            "      \"vega-lite\": \"https://cdn.jsdelivr.net/npm/vega-lite@5.20.1?noext\",\n",
                            "      \"vega-embed\": \"https://cdn.jsdelivr.net/npm/vega-embed@6?noext\",\n",
                            "    };\n",
                            "\n",
                            "    function maybeLoadScript(lib, version) {\n",
                            "      var key = `${lib.replace(\"-\", \"\")}_version`;\n",
                            "      return (VEGA_DEBUG[key] == version) ?\n",
                            "        Promise.resolve(paths[lib]) :\n",
                            "        new Promise(function(resolve, reject) {\n",
                            "          var s = document.createElement('script');\n",
                            "          document.getElementsByTagName(\"head\")[0].appendChild(s);\n",
                            "          s.async = true;\n",
                            "          s.onload = () => {\n",
                            "            VEGA_DEBUG[key] = version;\n",
                            "            return resolve(paths[lib]);\n",
                            "          };\n",
                            "          s.onerror = () => reject(`Error loading script: ${paths[lib]}`);\n",
                            "          s.src = paths[lib];\n",
                            "        });\n",
                            "    }\n",
                            "\n",
                            "    function showError(err) {\n",
                            "      outputDiv.innerHTML = `<div class=\"error\" style=\"color:red;\">${err}</div>`;\n",
                            "      throw err;\n",
                            "    }\n",
                            "\n",
                            "    function displayChart(vegaEmbed) {\n",
                            "      vegaEmbed(outputDiv, spec, embedOpt)\n",
                            "        .catch(err => showError(`Javascript Error: ${err.message}<br>This usually means there's a typo in your chart specification. See the javascript console for the full traceback.`));\n",
                            "    }\n",
                            "\n",
                            "    if(typeof define === \"function\" && define.amd) {\n",
                            "      requirejs.config({paths});\n",
                            "      let deps = [\"vega-embed\"];\n",
                            "      require(deps, displayChart, err => showError(`Error loading script: ${err.message}`));\n",
                            "    } else {\n",
                            "      maybeLoadScript(\"vega\", \"5\")\n",
                            "        .then(() => maybeLoadScript(\"vega-lite\", \"5.20.1\"))\n",
                            "        .then(() => maybeLoadScript(\"vega-embed\", \"6\"))\n",
                            "        .catch(showError)\n",
                            "        .then(() => displayChart(vegaEmbed));\n",
                            "    }\n",
                            "  })({\"config\": {\"view\": {\"continuousWidth\": 300, \"continuousHeight\": 300}}, \"data\": {\"name\": \"data-823a7d0937e3ac89646be47b858f245f\"}, \"mark\": {\"type\": \"bar\", \"tooltip\": true}, \"encoding\": {\"x\": {\"field\": \"importance\", \"type\": \"quantitative\"}, \"y\": {\"field\": \"feature\", \"type\": \"nominal\"}}, \"params\": [{\"name\": \"param_1\", \"select\": {\"type\": \"interval\", \"encodings\": [\"x\", \"y\"]}, \"bind\": \"scales\"}], \"$schema\": \"https://vega.github.io/schema/vega-lite/v5.20.1.json\", \"datasets\": {\"data-823a7d0937e3ac89646be47b858f245f\": [{\"feature\": \"size_ratio\", \"importance\": 953}, {\"feature\": \"forks_ratio\", \"importance\": 769}, {\"feature\": \"stars_ratio\", \"importance\": 763}, {\"feature\": \"size\", \"importance\": 734}, {\"feature\": \"size_b\", \"importance\": 707}, {\"feature\": \"age_days\", \"importance\": 653}, {\"feature\": \"age_days_b\", \"importance\": 631}, {\"feature\": \"open_issues_b\", \"importance\": 557}, {\"feature\": \"stars\", \"importance\": 551}, {\"feature\": \"open_issues\", \"importance\": 531}, {\"feature\": \"stars_b\", \"importance\": 529}, {\"feature\": \"forks\", \"importance\": 486}, {\"feature\": \"forks_b\", \"importance\": 425}, {\"feature\": \"subscribers_count\", \"importance\": 359}, {\"feature\": \"subscribers_count_b\", \"importance\": 353}, {\"feature\": \"days_since_update\", \"importance\": 128}, {\"feature\": \"days_since_update_b\", \"importance\": 127}, {\"feature\": \"has_pages\", \"importance\": 90}, {\"feature\": \"has_wiki\", \"importance\": 90}, {\"feature\": \"has_projects_b\", \"importance\": 87}, {\"feature\": \"has_wiki_b\", \"importance\": 83}, {\"feature\": \"has_pages_b\", \"importance\": 82}, {\"feature\": \"has_projects\", \"importance\": 63}, {\"feature\": \"has_discussions_b\", \"importance\": 44}, {\"feature\": \"has_discussions\", \"importance\": 39}, {\"feature\": \"has_homepage\", \"importance\": 26}, {\"feature\": \"has_homepage_b\", \"importance\": 24}, {\"feature\": \"stars_decay\", \"importance\": 4}, {\"feature\": \"forks_decay\", \"importance\": 4}, {\"feature\": \"stars_decay_b\", \"importance\": 3}, {\"feature\": \"forks_decay_b\", \"importance\": 3}, {\"feature\": \"is_archived\", \"importance\": 2}, {\"feature\": \"is_private\", \"importance\": 0}, {\"feature\": \"watchers\", \"importance\": 0}, {\"feature\": \"is_disabled\", \"importance\": 0}, {\"feature\": \"is_private_b\", \"importance\": 0}, {\"feature\": \"watchers_b\", \"importance\": 0}, {\"feature\": \"is_archived_b\", \"importance\": 0}, {\"feature\": \"is_disabled_b\", \"importance\": 0}, {\"feature\": \"watchers_ratio\", \"importance\": 0}, {\"feature\": \"log_stars\", \"importance\": 0}, {\"feature\": \"log_stars_b\", \"importance\": 0}, {\"feature\": \"log_watchers\", \"importance\": 0}, {\"feature\": \"log_watchers_b\", \"importance\": 0}, {\"feature\": \"log_forks\", \"importance\": 0}, {\"feature\": \"log_forks_b\", \"importance\": 0}]}}, {\"mode\": \"vega-lite\"});\n",
                            "</script>"
                        ],
                        "text/plain": [
                            "alt.Chart(...)"
                        ]
                    },
                    "execution_count": 12,
                    "metadata": {},
                    "output_type": "execute_result"
                }
            ],
            "source": [
                "importance = model.feature_importance()\n",
                "\n",
                "feature_importance = pl.DataFrame({\"feature\": features, \"importance\": importance}).sort(\n",
                "    \"importance\", descending=True\n",
                ")\n",
                "\n",
                "feature_importance.plot.bar(x=\"importance\", y=\"feature\")\n"
            ]
        },
        {
            "cell_type": "code",
            "execution_count": 14,
            "metadata": {},
            "outputs": [],
            "source": [
                "import datetime\n",
                "\n",
                "df_test.select(pl.col(\"id\"), pl.Series(test_predictions).alias(\"pred\")).write_csv(\n",
                "    f\"../data/submissions/submission_{datetime.datetime.now().strftime('%Y-%m-%d_%H-%M-%S')}-mse_{mean_mse:.6f}.csv\"\n",
                ")\n"
            ]
        }
    ],
    "metadata": {
        "kernelspec": {
            "display_name": "Python 3",
            "language": "python",
            "name": "python3"
        },
        "language_info": {
            "codemirror_mode": {
                "name": "ipython",
                "version": 3
            },
            "file_extension": ".py",
            "mimetype": "text/x-python",
            "name": "python",
            "nbconvert_exporter": "python",
            "pygments_lexer": "ipython3",
            "version": "3.13.1"
        }
    },
    "nbformat": 4,
    "nbformat_minor": 2
}
