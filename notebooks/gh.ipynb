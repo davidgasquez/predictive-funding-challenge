{
 "cells": [
  {
   "cell_type": "code",
   "execution_count": 1,
   "metadata": {},
   "outputs": [
    {
     "name": "stdout",
     "output_type": "stream",
     "text": [
      "\u001b[2mUsing Python 3.13.1 environment at: /home/david/projects/predictive-funding-challenge/.venv\u001b[0m\n",
      "\u001b[2mAudited \u001b[1m1 package\u001b[0m \u001b[2min 3ms\u001b[0m\u001b[0m\n"
     ]
    }
   ],
   "source": [
    "!uv pip install pygithub"
   ]
  },
  {
   "cell_type": "code",
   "execution_count": 2,
   "metadata": {},
   "outputs": [],
   "source": [
    "import os\n",
    "\n",
    "# Authentication is defined via github.Auth\n",
    "from github import Auth, Github\n",
    "\n",
    "# Create a Github instance\n",
    "g = Github(auth=Auth.Token(os.getenv(\"GITHUB_TOKEN\") or \"\"))"
   ]
  },
  {
   "cell_type": "code",
   "execution_count": 3,
   "metadata": {},
   "outputs": [],
   "source": [
    "repo = g.get_repo(\"davidgasquez/predictive-funding-challenge\")"
   ]
  },
  {
   "cell_type": "code",
   "execution_count": 4,
   "metadata": {},
   "outputs": [
    {
     "name": "stdout",
     "output_type": "stream",
     "text": [
      "[Stargazer(user=\"riordan\"), Stargazer(user=\"DistributedDoge\"), Stargazer(user=\"distbit0\")]\n"
     ]
    }
   ],
   "source": [
    "print(list(repo.get_stargazers_with_dates()))\n"
   ]
  },
  {
   "cell_type": "code",
   "execution_count": 5,
   "metadata": {},
   "outputs": [
    {
     "name": "stdout",
     "output_type": "stream",
     "text": [
      "riordan 2024-12-18 00:33:55+00:00\n",
      "DistributedDoge 2024-12-18 01:58:19+00:00\n",
      "distbit0 2025-01-07 10:28:10+00:00\n"
     ]
    }
   ],
   "source": [
    "for s in repo.get_stargazers_with_dates():\n",
    "    print(s.user.login, s.starred_at)"
   ]
  }
 ],
 "metadata": {
  "kernelspec": {
   "display_name": ".venv",
   "language": "python",
   "name": "python3"
  },
  "language_info": {
   "codemirror_mode": {
    "name": "ipython",
    "version": 3
   },
   "file_extension": ".py",
   "mimetype": "text/x-python",
   "name": "python",
   "nbconvert_exporter": "python",
   "pygments_lexer": "ipython3",
   "version": "3.13.1"
  }
 },
 "nbformat": 4,
 "nbformat_minor": 2
}
