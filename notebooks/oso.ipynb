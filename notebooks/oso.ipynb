{
    "cells": [
        {
            "cell_type": "markdown",
            "metadata": {},
            "source": [
                "# OSO"
            ]
        },
        {
            "cell_type": "code",
            "execution_count": 2,
            "metadata": {},
            "outputs": [],
            "source": [
                "import polars as pl\n",
                "from google.cloud import bigquery\n",
                "\n",
                "client = bigquery.Client()"
            ]
        },
        {
            "cell_type": "code",
            "execution_count": 4,
            "metadata": {},
            "outputs": [],
            "source": [
                "def bq_query(query: str) -> pl.DataFrame:\n",
                "    query_job = client.query(query)\n",
                "    rows = query_job.result()\n",
                "    return pl.from_arrow(rows.to_arrow())  # type: ignore\n"
            ]
        },
        {
            "cell_type": "code",
            "execution_count": 6,
            "metadata": {},
            "outputs": [
                {
                    "data": {
                        "text/html": [
                            "<div><style>\n",
                            ".dataframe > thead > tr,\n",
                            ".dataframe > tbody > tr {\n",
                            "  text-align: right;\n",
                            "  white-space: pre-wrap;\n",
                            "}\n",
                            "</style>\n",
                            "<small>shape: (2, 6)</small><table border=\"1\" class=\"dataframe\"><thead><tr><th>project_repo</th><th>quarter</th><th>funder</th><th>grant_pool_name</th><th>project</th><th>total_funding_usd</th></tr><tr><td>str</td><td>datetime[μs, UTC]</td><td>str</td><td>str</td><td>str</td><td>i64</td></tr></thead><tbody><tr><td>&quot;https://github.com/libp2p/go-n…</td><td>2024-01-01 00:00:00 UTC</td><td>&quot;optimism&quot;</td><td>&quot;retropgf3&quot;</td><td>&quot;libp2p&quot;</td><td>1043482</td></tr><tr><td>&quot;https://github.com/libp2p/go-n…</td><td>2024-10-01 00:00:00 UTC</td><td>&quot;optimism&quot;</td><td>&quot;retrofunding5&quot;</td><td>&quot;libp2p&quot;</td><td>652907</td></tr></tbody></table></div>"
                        ],
                        "text/plain": [
                            "shape: (2, 6)\n",
                            "┌───────────────────┬───────────────────┬──────────┬─────────────────┬─────────┬───────────────────┐\n",
                            "│ project_repo      ┆ quarter           ┆ funder   ┆ grant_pool_name ┆ project ┆ total_funding_usd │\n",
                            "│ ---               ┆ ---               ┆ ---      ┆ ---             ┆ ---     ┆ ---               │\n",
                            "│ str               ┆ datetime[μs, UTC] ┆ str      ┆ str             ┆ str     ┆ i64               │\n",
                            "╞═══════════════════╪═══════════════════╪══════════╪═════════════════╪═════════╪═══════════════════╡\n",
                            "│ https://github.co ┆ 2024-01-01        ┆ optimism ┆ retropgf3       ┆ libp2p  ┆ 1043482           │\n",
                            "│ m/libp2p/go-n…    ┆ 00:00:00 UTC      ┆          ┆                 ┆         ┆                   │\n",
                            "│ https://github.co ┆ 2024-10-01        ┆ optimism ┆ retrofunding5   ┆ libp2p  ┆ 652907            │\n",
                            "│ m/libp2p/go-n…    ┆ 00:00:00 UTC      ┆          ┆                 ┆         ┆                   │\n",
                            "└───────────────────┴───────────────────┴──────────┴─────────────────┴─────────┴───────────────────┘"
                        ]
                    },
                    "execution_count": 6,
                    "metadata": {},
                    "output_type": "execute_result"
                }
            ],
            "source": [
                "query = \"\"\"\n",
                "with funding as (\n",
                "    select\n",
                "        date_trunc(time, quarter) as quarter,\n",
                "        from_project_name as funder,\n",
                "        grant_pool_name,\n",
                "        to_project_name as project,\n",
                "        to_project_id,\n",
                "        cast(sum(amount) as int) as total_funding_usd\n",
                "    from `opensource-observer.oso.oss_funding_v0`\n",
                "    group by 1, 2, 3, 4, 5\n",
                "),\n",
                "repos as (\n",
                "    select\n",
                "        project_id,\n",
                "        max_by(artifact_url, star_count) as project_repo\n",
                "    from `opensource-observer.oso.repositories_v0`\n",
                "    where artifact_url in ('https://github.com/libp2p/go-nat')\n",
                "    group by project_id\n",
                ")\n",
                "select\n",
                "    repos.project_repo,\n",
                "    funding.* except (to_project_id),\n",
                "from funding\n",
                "join repos\n",
                "    on funding.to_project_id = repos.project_id\n",
                "\"\"\"\n",
                "\n",
                "bq_query(q)\n"
            ]
        },
        {
            "cell_type": "code",
            "execution_count": 3,
            "metadata": {},
            "outputs": [
                {
                    "name": "stdout",
                    "output_type": "stream",
                    "text": [
                        "Rows: 1\n"
                    ]
                },
                {
                    "data": {
                        "text/html": [
                            "<div><style>\n",
                            ".dataframe > thead > tr,\n",
                            ".dataframe > tbody > tr {\n",
                            "  text-align: right;\n",
                            "  white-space: pre-wrap;\n",
                            "}\n",
                            "</style>\n",
                            "<small>shape: (1, 6)</small><table border=\"1\" class=\"dataframe\"><thead><tr><th>target</th><th>is_fork</th><th>star_count</th><th>fork_count</th><th>created_at</th><th>updated_at</th></tr><tr><td>str</td><td>bool</td><td>i64</td><td>i64</td><td>datetime[μs, UTC]</td><td>datetime[μs, UTC]</td></tr></thead><tbody><tr><td>&quot;https://github.com/libp2p/go-l…</td><td>false</td><td>6145</td><td>1095</td><td>2015-09-30 23:24:32 UTC</td><td>2024-12-26 15:37:42 UTC</td></tr></tbody></table></div>"
                        ],
                        "text/plain": [
                            "shape: (1, 6)\n",
                            "┌────────────────────┬─────────┬────────────┬────────────┬────────────────────┬────────────────────┐\n",
                            "│ target             ┆ is_fork ┆ star_count ┆ fork_count ┆ created_at         ┆ updated_at         │\n",
                            "│ ---                ┆ ---     ┆ ---        ┆ ---        ┆ ---                ┆ ---                │\n",
                            "│ str                ┆ bool    ┆ i64        ┆ i64        ┆ datetime[μs, UTC]  ┆ datetime[μs, UTC]  │\n",
                            "╞════════════════════╪═════════╪════════════╪════════════╪════════════════════╪════════════════════╡\n",
                            "│ https://github.com ┆ false   ┆ 6145       ┆ 1095       ┆ 2015-09-30         ┆ 2024-12-26         │\n",
                            "│ /libp2p/go-l…      ┆         ┆            ┆            ┆ 23:24:32 UTC       ┆ 15:37:42 UTC       │\n",
                            "└────────────────────┴─────────┴────────────┴────────────┴────────────────────┴────────────────────┘"
                        ]
                    },
                    "execution_count": 3,
                    "metadata": {},
                    "output_type": "execute_result"
                }
            ],
            "source": [
                "QUERY = \"\"\"\n",
                "select\n",
                "  artifact_url as target,\n",
                "  is_fork,\n",
                "  star_count,\n",
                "  fork_count,\n",
                "  created_at,\n",
                "  updated_at\n",
                "from `opensource-observer.oso.repositories_v0`\n",
                "where artifact_url in ('https://github.com/libp2p/go-libp2p')\n",
                "\"\"\"\n",
                "\n",
                "query_job = client.query(QUERY)\n",
                "rows = query_job.result()\n",
                "\n",
                "oso_df = pl.from_arrow(rows.to_arrow())\n",
                "\n",
                "print(f\"Rows: {oso_df.shape[0]}\")\n",
                "\n",
                "oso_df.head()"
            ]
        }
    ],
    "metadata": {
        "kernelspec": {
            "display_name": "Python 3",
            "language": "python",
            "name": "python3"
        },
        "language_info": {
            "codemirror_mode": {
                "name": "ipython",
                "version": 3
            },
            "file_extension": ".py",
            "mimetype": "text/x-python",
            "name": "python",
            "nbconvert_exporter": "python",
            "pygments_lexer": "ipython3",
            "version": "3.13.0"
        }
    },
    "nbformat": 4,
    "nbformat_minor": 2
}
